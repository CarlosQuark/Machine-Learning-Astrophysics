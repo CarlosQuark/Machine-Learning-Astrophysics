{
  "nbformat": 4,
  "nbformat_minor": 0,
  "metadata": {
    "colab": {
      "provenance": [],
      "authorship_tag": "ABX9TyMmlCGjLrlM7zwcpTlpcFpP",
      "include_colab_link": true
    },
    "kernelspec": {
      "name": "python3",
      "display_name": "Python 3"
    },
    "language_info": {
      "name": "python"
    }
  },
  "cells": [
    {
      "cell_type": "markdown",
      "metadata": {
        "id": "view-in-github",
        "colab_type": "text"
      },
      "source": [
        "<a href=\"https://colab.research.google.com/github/CarlosQuark/Machine-Learning-Astrophysics/blob/main/Imagenes_Sobre.ipynb\" target=\"_parent\"><img src=\"https://colab.research.google.com/assets/colab-badge.svg\" alt=\"Open In Colab\"/></a>"
      ]
    },
    {
      "cell_type": "code",
      "execution_count": 3,
      "metadata": {
        "id": "FrzLBj5pJwIH"
      },
      "outputs": [],
      "source": [
        "# REDES CONVULSIONALES\n",
        "\n",
        "from keras.layers import Dense\n",
        "from keras.models import Sequential\n",
        "from keras.datasets import mnist\n",
        "from keras.utils import to_categorical\n",
        "import numpy\n",
        "import matplotlib.pyplot as plt\n",
        "from keras.optimizers import Adam\n"
      ]
    },
    {
      "cell_type": "code",
      "source": [
        "(xtrain,ytrain), (xtest,ytest) = mnist.load_data()"
      ],
      "metadata": {
        "id": "AmEtIl6ZKn-w"
      },
      "execution_count": 4,
      "outputs": []
    },
    {
      "cell_type": "code",
      "source": [
        "xtrain.shape"
      ],
      "metadata": {
        "colab": {
          "base_uri": "https://localhost:8080/"
        },
        "id": "Rw89qgx0K4Op",
        "outputId": "2d2f6778-0366-4bc8-b8a9-bcf88f9410b4"
      },
      "execution_count": 5,
      "outputs": [
        {
          "output_type": "execute_result",
          "data": {
            "text/plain": [
              "(60000, 28, 28)"
            ]
          },
          "metadata": {},
          "execution_count": 5
        }
      ]
    },
    {
      "cell_type": "code",
      "source": [
        "#Vamos a convertirlo en un vector 764\n",
        "\n",
        "xtrain = xtrain.reshape(60000,784)\n",
        "xtest = xtest.reshape(10000,784)\n"
      ],
      "metadata": {
        "id": "gMqqtGHUM45r"
      },
      "execution_count": 6,
      "outputs": []
    },
    {
      "cell_type": "code",
      "source": [
        "xtrain.shape"
      ],
      "metadata": {
        "colab": {
          "base_uri": "https://localhost:8080/"
        },
        "id": "nK_DNR57NSFD",
        "outputId": "4111f49a-4872-4c1e-b24f-c2d292537783"
      },
      "execution_count": 7,
      "outputs": [
        {
          "output_type": "execute_result",
          "data": {
            "text/plain": [
              "(60000, 784)"
            ]
          },
          "metadata": {},
          "execution_count": 7
        }
      ]
    },
    {
      "cell_type": "code",
      "source": [
        "xtest.shape"
      ],
      "metadata": {
        "colab": {
          "base_uri": "https://localhost:8080/"
        },
        "id": "Cly-4T9jNWcC",
        "outputId": "2b49dead-552c-4511-8d52-965fc2f93c49"
      },
      "execution_count": 8,
      "outputs": [
        {
          "output_type": "execute_result",
          "data": {
            "text/plain": [
              "(10000, 784)"
            ]
          },
          "metadata": {},
          "execution_count": 8
        }
      ]
    },
    {
      "cell_type": "code",
      "source": [
        "#Convertir también las etiquetas a categoricas\n",
        "\n",
        "ytrain = to_categorical(ytrain)\n",
        "\n",
        "ytest = to_categorical(ytest)"
      ],
      "metadata": {
        "id": "AJrQYVLHNZ53"
      },
      "execution_count": 9,
      "outputs": []
    },
    {
      "cell_type": "code",
      "source": [
        "#Armar la red\n",
        "\n",
        "\n",
        "network = Sequential([\n",
        "\n",
        "      Dense(units = 512, activation=\"relu\", input_dim = 784),\n",
        "      Dense(units = 256, activation =\"relu\"),\n",
        "      Dense(units = 128, activation = \"relu\"),\n",
        "      Dense(units =64, activation = \"relu\"),\n",
        "      Dense(units = 10, activation = \"softmax\")\n",
        "])\n",
        "\n",
        "#También podemos utilizar el optimiZador adamax\n",
        "network.compile(optimizer= \"Adamax\",\n",
        "                loss = \"categorical_crossentropy\",\n",
        "                metrics = [\"accuracy\"])\n",
        "\n"
      ],
      "metadata": {
        "id": "AvUDMSOsNpB8"
      },
      "execution_count": 10,
      "outputs": []
    },
    {
      "cell_type": "code",
      "source": [
        "network.summary() #Para ver como se ve la red"
      ],
      "metadata": {
        "colab": {
          "base_uri": "https://localhost:8080/"
        },
        "id": "YfVKTbYdPKiX",
        "outputId": "9514e963-248a-4287-aa99-b363ca0347ed"
      },
      "execution_count": 11,
      "outputs": [
        {
          "output_type": "stream",
          "name": "stdout",
          "text": [
            "Model: \"sequential\"\n",
            "_________________________________________________________________\n",
            " Layer (type)                Output Shape              Param #   \n",
            "=================================================================\n",
            " dense (Dense)               (None, 512)               401920    \n",
            "                                                                 \n",
            " dense_1 (Dense)             (None, 256)               131328    \n",
            "                                                                 \n",
            " dense_2 (Dense)             (None, 128)               32896     \n",
            "                                                                 \n",
            " dense_3 (Dense)             (None, 64)                8256      \n",
            "                                                                 \n",
            " dense_4 (Dense)             (None, 10)                650       \n",
            "                                                                 \n",
            "=================================================================\n",
            "Total params: 575050 (2.19 MB)\n",
            "Trainable params: 575050 (2.19 MB)\n",
            "Non-trainable params: 0 (0.00 Byte)\n",
            "_________________________________________________________________\n"
          ]
        }
      ]
    },
    {
      "cell_type": "code",
      "source": [],
      "metadata": {
        "id": "1tV95IV-Ygc0"
      },
      "execution_count": null,
      "outputs": []
    },
    {
      "cell_type": "code",
      "source": [
        "# Sala de entranamiento\n",
        "\n",
        "network.fit(xtrain, ytrain, batch_size = 32, epochs=100)"
      ],
      "metadata": {
        "colab": {
          "base_uri": "https://localhost:8080/"
        },
        "id": "64xSoaV0PSMM",
        "outputId": "13e5fa47-7e27-485c-a996-6d8345cf3bf5"
      },
      "execution_count": 12,
      "outputs": [
        {
          "output_type": "stream",
          "name": "stdout",
          "text": [
            "Epoch 1/100\n",
            "1875/1875 [==============================] - 21s 10ms/step - loss: 0.8506 - accuracy: 0.8784\n",
            "Epoch 2/100\n",
            "1875/1875 [==============================] - 20s 10ms/step - loss: 0.2097 - accuracy: 0.9438\n",
            "Epoch 3/100\n",
            "1875/1875 [==============================] - 20s 11ms/step - loss: 0.1239 - accuracy: 0.9636\n",
            "Epoch 4/100\n",
            "1875/1875 [==============================] - 20s 10ms/step - loss: 0.0766 - accuracy: 0.9765\n",
            "Epoch 5/100\n",
            "1875/1875 [==============================] - 20s 11ms/step - loss: 0.0536 - accuracy: 0.9838\n",
            "Epoch 6/100\n",
            "1875/1875 [==============================] - 19s 10ms/step - loss: 0.0375 - accuracy: 0.9882\n",
            "Epoch 7/100\n",
            "1875/1875 [==============================] - 19s 10ms/step - loss: 0.0268 - accuracy: 0.9914\n",
            "Epoch 8/100\n",
            "1875/1875 [==============================] - 19s 10ms/step - loss: 0.0209 - accuracy: 0.9931\n",
            "Epoch 9/100\n",
            "1875/1875 [==============================] - 19s 10ms/step - loss: 0.0164 - accuracy: 0.9945\n",
            "Epoch 10/100\n",
            "1875/1875 [==============================] - 20s 11ms/step - loss: 0.0113 - accuracy: 0.9963\n",
            "Epoch 11/100\n",
            "1875/1875 [==============================] - 18s 10ms/step - loss: 0.0088 - accuracy: 0.9970\n",
            "Epoch 12/100\n",
            "1875/1875 [==============================] - 20s 10ms/step - loss: 0.0074 - accuracy: 0.9976\n",
            "Epoch 13/100\n",
            "1875/1875 [==============================] - 19s 10ms/step - loss: 0.0075 - accuracy: 0.9976\n",
            "Epoch 14/100\n",
            "1875/1875 [==============================] - 19s 10ms/step - loss: 0.0070 - accuracy: 0.9976\n",
            "Epoch 15/100\n",
            "1875/1875 [==============================] - 19s 10ms/step - loss: 0.0035 - accuracy: 0.9989\n",
            "Epoch 16/100\n",
            "1875/1875 [==============================] - 20s 10ms/step - loss: 0.0044 - accuracy: 0.9984\n",
            "Epoch 17/100\n",
            "1875/1875 [==============================] - 19s 10ms/step - loss: 0.0049 - accuracy: 0.9986\n",
            "Epoch 18/100\n",
            "1875/1875 [==============================] - 19s 10ms/step - loss: 0.0046 - accuracy: 0.9984\n",
            "Epoch 19/100\n",
            "1875/1875 [==============================] - 18s 10ms/step - loss: 0.0045 - accuracy: 0.9987\n",
            "Epoch 20/100\n",
            "1875/1875 [==============================] - 19s 10ms/step - loss: 0.0031 - accuracy: 0.9991\n",
            "Epoch 21/100\n",
            "1875/1875 [==============================] - 19s 10ms/step - loss: 0.0043 - accuracy: 0.9987\n",
            "Epoch 22/100\n",
            "1875/1875 [==============================] - 18s 10ms/step - loss: 0.0039 - accuracy: 0.9987\n",
            "Epoch 23/100\n",
            "1875/1875 [==============================] - 19s 10ms/step - loss: 0.0040 - accuracy: 0.9985\n",
            "Epoch 24/100\n",
            "1875/1875 [==============================] - 18s 10ms/step - loss: 0.0031 - accuracy: 0.9990\n",
            "Epoch 25/100\n",
            "1875/1875 [==============================] - 19s 10ms/step - loss: 0.0040 - accuracy: 0.9987\n",
            "Epoch 26/100\n",
            "1875/1875 [==============================] - 19s 10ms/step - loss: 0.0035 - accuracy: 0.9990\n",
            "Epoch 27/100\n",
            "1875/1875 [==============================] - 19s 10ms/step - loss: 0.0020 - accuracy: 0.9994\n",
            "Epoch 28/100\n",
            "1875/1875 [==============================] - 18s 10ms/step - loss: 0.0030 - accuracy: 0.9990\n",
            "Epoch 29/100\n",
            "1875/1875 [==============================] - 18s 10ms/step - loss: 0.0037 - accuracy: 0.9988\n",
            "Epoch 30/100\n",
            "1875/1875 [==============================] - 19s 10ms/step - loss: 0.0019 - accuracy: 0.9995\n",
            "Epoch 31/100\n",
            "1875/1875 [==============================] - 18s 10ms/step - loss: 0.0021 - accuracy: 0.9994\n",
            "Epoch 32/100\n",
            "1875/1875 [==============================] - 19s 10ms/step - loss: 0.0018 - accuracy: 0.9994\n",
            "Epoch 33/100\n",
            "1875/1875 [==============================] - 19s 10ms/step - loss: 0.0028 - accuracy: 0.9991\n",
            "Epoch 34/100\n",
            "1875/1875 [==============================] - 19s 10ms/step - loss: 0.0016 - accuracy: 0.9995\n",
            "Epoch 35/100\n",
            "1875/1875 [==============================] - 19s 10ms/step - loss: 0.0028 - accuracy: 0.9991\n",
            "Epoch 36/100\n",
            "1875/1875 [==============================] - 19s 10ms/step - loss: 0.0016 - accuracy: 0.9996\n",
            "Epoch 37/100\n",
            "1875/1875 [==============================] - 19s 10ms/step - loss: 0.0020 - accuracy: 0.9993\n",
            "Epoch 38/100\n",
            "1875/1875 [==============================] - 19s 10ms/step - loss: 0.0016 - accuracy: 0.9995\n",
            "Epoch 39/100\n",
            "1875/1875 [==============================] - 19s 10ms/step - loss: 0.0023 - accuracy: 0.9994\n",
            "Epoch 40/100\n",
            "1875/1875 [==============================] - 19s 10ms/step - loss: 0.0025 - accuracy: 0.9994\n",
            "Epoch 41/100\n",
            "1875/1875 [==============================] - 19s 10ms/step - loss: 0.0014 - accuracy: 0.9997\n",
            "Epoch 42/100\n",
            "1875/1875 [==============================] - 19s 10ms/step - loss: 0.0020 - accuracy: 0.9995\n",
            "Epoch 43/100\n",
            "1875/1875 [==============================] - 20s 11ms/step - loss: 9.2145e-04 - accuracy: 0.9997\n",
            "Epoch 44/100\n",
            "1875/1875 [==============================] - 19s 10ms/step - loss: 9.8549e-04 - accuracy: 0.9997\n",
            "Epoch 45/100\n",
            "1875/1875 [==============================] - 19s 10ms/step - loss: 0.0019 - accuracy: 0.9994\n",
            "Epoch 46/100\n",
            "1875/1875 [==============================] - 18s 10ms/step - loss: 0.0024 - accuracy: 0.9994\n",
            "Epoch 47/100\n",
            "1875/1875 [==============================] - 19s 10ms/step - loss: 0.0019 - accuracy: 0.9995\n",
            "Epoch 48/100\n",
            "1875/1875 [==============================] - 19s 10ms/step - loss: 0.0020 - accuracy: 0.9994\n",
            "Epoch 49/100\n",
            "1875/1875 [==============================] - 18s 9ms/step - loss: 0.0020 - accuracy: 0.9995\n",
            "Epoch 50/100\n",
            "1875/1875 [==============================] - 19s 10ms/step - loss: 0.0016 - accuracy: 0.9995\n",
            "Epoch 51/100\n",
            "1875/1875 [==============================] - 18s 10ms/step - loss: 0.0012 - accuracy: 0.9997\n",
            "Epoch 52/100\n",
            "1875/1875 [==============================] - 19s 10ms/step - loss: 0.0024 - accuracy: 0.9994\n",
            "Epoch 53/100\n",
            "1875/1875 [==============================] - 19s 10ms/step - loss: 0.0018 - accuracy: 0.9995\n",
            "Epoch 54/100\n",
            "1875/1875 [==============================] - 19s 10ms/step - loss: 0.0015 - accuracy: 0.9995\n",
            "Epoch 55/100\n",
            "1875/1875 [==============================] - 19s 10ms/step - loss: 0.0015 - accuracy: 0.9997\n",
            "Epoch 56/100\n",
            "1875/1875 [==============================] - 18s 10ms/step - loss: 0.0011 - accuracy: 0.9997\n",
            "Epoch 57/100\n",
            "1875/1875 [==============================] - 19s 10ms/step - loss: 6.1965e-04 - accuracy: 0.9998\n",
            "Epoch 58/100\n",
            "1875/1875 [==============================] - 18s 10ms/step - loss: 0.0011 - accuracy: 0.9997\n",
            "Epoch 59/100\n",
            "1875/1875 [==============================] - 19s 10ms/step - loss: 7.9640e-04 - accuracy: 0.9998\n",
            "Epoch 60/100\n",
            "1875/1875 [==============================] - 19s 10ms/step - loss: 8.8675e-04 - accuracy: 0.9998\n",
            "Epoch 61/100\n",
            "1875/1875 [==============================] - 19s 10ms/step - loss: 0.0013 - accuracy: 0.9998\n",
            "Epoch 62/100\n",
            "1875/1875 [==============================] - 19s 10ms/step - loss: 0.0031 - accuracy: 0.9994\n",
            "Epoch 63/100\n",
            "1875/1875 [==============================] - 19s 10ms/step - loss: 0.0011 - accuracy: 0.9996\n",
            "Epoch 64/100\n",
            "1875/1875 [==============================] - 19s 10ms/step - loss: 7.4521e-04 - accuracy: 0.9999\n",
            "Epoch 65/100\n",
            "1875/1875 [==============================] - 18s 10ms/step - loss: 3.3405e-04 - accuracy: 0.9999\n",
            "Epoch 66/100\n",
            "1875/1875 [==============================] - 20s 10ms/step - loss: 5.3394e-04 - accuracy: 0.9998\n",
            "Epoch 67/100\n",
            "1875/1875 [==============================] - 18s 10ms/step - loss: 8.5099e-05 - accuracy: 1.0000\n",
            "Epoch 68/100\n",
            "1875/1875 [==============================] - 19s 10ms/step - loss: 7.7863e-04 - accuracy: 0.9998\n",
            "Epoch 69/100\n",
            "1875/1875 [==============================] - 19s 10ms/step - loss: 0.0017 - accuracy: 0.9995\n",
            "Epoch 70/100\n",
            "1875/1875 [==============================] - 19s 10ms/step - loss: 0.0018 - accuracy: 0.9995\n",
            "Epoch 71/100\n",
            "1875/1875 [==============================] - 19s 10ms/step - loss: 0.0017 - accuracy: 0.9995\n",
            "Epoch 72/100\n",
            "1875/1875 [==============================] - 19s 10ms/step - loss: 0.0035 - accuracy: 0.9993\n",
            "Epoch 73/100\n",
            "1875/1875 [==============================] - 19s 10ms/step - loss: 0.0010 - accuracy: 0.9997\n",
            "Epoch 74/100\n",
            "1875/1875 [==============================] - 18s 10ms/step - loss: 0.0021 - accuracy: 0.9996\n",
            "Epoch 75/100\n",
            "1875/1875 [==============================] - 19s 10ms/step - loss: 0.0017 - accuracy: 0.9995\n",
            "Epoch 76/100\n",
            "1875/1875 [==============================] - 18s 10ms/step - loss: 0.0020 - accuracy: 0.9994\n",
            "Epoch 77/100\n",
            "1875/1875 [==============================] - 19s 10ms/step - loss: 0.0024 - accuracy: 0.9994\n",
            "Epoch 78/100\n",
            "1875/1875 [==============================] - 19s 10ms/step - loss: 5.2281e-04 - accuracy: 0.9998\n",
            "Epoch 79/100\n",
            "1875/1875 [==============================] - 19s 10ms/step - loss: 0.0013 - accuracy: 0.9996\n",
            "Epoch 80/100\n",
            "1875/1875 [==============================] - 19s 10ms/step - loss: 5.2329e-04 - accuracy: 0.9998\n",
            "Epoch 81/100\n",
            "1875/1875 [==============================] - 19s 10ms/step - loss: 0.0024 - accuracy: 0.9994\n",
            "Epoch 82/100\n",
            "1875/1875 [==============================] - 20s 10ms/step - loss: 0.0025 - accuracy: 0.9994\n",
            "Epoch 83/100\n",
            "1875/1875 [==============================] - 19s 10ms/step - loss: 2.8516e-04 - accuracy: 0.9999\n",
            "Epoch 84/100\n",
            "1875/1875 [==============================] - 19s 10ms/step - loss: 0.0011 - accuracy: 0.9998\n",
            "Epoch 85/100\n",
            "1875/1875 [==============================] - 18s 10ms/step - loss: 0.0011 - accuracy: 0.9997\n",
            "Epoch 86/100\n",
            "1875/1875 [==============================] - 19s 10ms/step - loss: 0.0016 - accuracy: 0.9997\n",
            "Epoch 87/100\n",
            "1875/1875 [==============================] - 18s 10ms/step - loss: 0.0015 - accuracy: 0.9997\n",
            "Epoch 88/100\n",
            "1875/1875 [==============================] - 19s 10ms/step - loss: 0.0011 - accuracy: 0.9998\n",
            "Epoch 89/100\n",
            "1875/1875 [==============================] - 19s 10ms/step - loss: 0.0014 - accuracy: 0.9997\n",
            "Epoch 90/100\n",
            "1875/1875 [==============================] - 19s 10ms/step - loss: 9.7814e-04 - accuracy: 0.9997\n",
            "Epoch 91/100\n",
            "1875/1875 [==============================] - 20s 10ms/step - loss: 7.3641e-04 - accuracy: 0.9998\n",
            "Epoch 92/100\n",
            "1875/1875 [==============================] - 19s 10ms/step - loss: 0.0015 - accuracy: 0.9996\n",
            "Epoch 93/100\n",
            "1875/1875 [==============================] - 19s 10ms/step - loss: 9.2940e-04 - accuracy: 0.9999\n",
            "Epoch 94/100\n",
            "1875/1875 [==============================] - 19s 10ms/step - loss: 0.0017 - accuracy: 0.9996\n",
            "Epoch 95/100\n",
            "1875/1875 [==============================] - 20s 10ms/step - loss: 0.0018 - accuracy: 0.9997\n",
            "Epoch 96/100\n",
            "1875/1875 [==============================] - 19s 10ms/step - loss: 9.8527e-04 - accuracy: 0.9998\n",
            "Epoch 97/100\n",
            "1875/1875 [==============================] - 20s 11ms/step - loss: 0.0021 - accuracy: 0.9995\n",
            "Epoch 98/100\n",
            "1875/1875 [==============================] - 19s 10ms/step - loss: 0.0014 - accuracy: 0.9995\n",
            "Epoch 99/100\n",
            "1875/1875 [==============================] - 20s 10ms/step - loss: 3.4807e-04 - accuracy: 0.9999\n",
            "Epoch 100/100\n",
            "1875/1875 [==============================] - 19s 10ms/step - loss: 4.9480e-06 - accuracy: 1.0000\n"
          ]
        },
        {
          "output_type": "execute_result",
          "data": {
            "text/plain": [
              "<keras.src.callbacks.History at 0x7ff5de627100>"
            ]
          },
          "metadata": {},
          "execution_count": 12
        }
      ]
    },
    {
      "cell_type": "code",
      "source": [
        "network.evaluate(xtest, ytest, batch_size=32)"
      ],
      "metadata": {
        "colab": {
          "base_uri": "https://localhost:8080/"
        },
        "id": "4EyoPChzQmJK",
        "outputId": "55776693-ec1d-413f-c5a3-cc55a94d8ccb"
      },
      "execution_count": 13,
      "outputs": [
        {
          "output_type": "stream",
          "name": "stdout",
          "text": [
            "313/313 [==============================] - 1s 3ms/step - loss: 0.2848 - accuracy: 0.9806\n"
          ]
        },
        {
          "output_type": "execute_result",
          "data": {
            "text/plain": [
              "[0.284839391708374, 0.9805999994277954]"
            ]
          },
          "metadata": {},
          "execution_count": 13
        }
      ]
    },
    {
      "cell_type": "code",
      "source": [
        "sample_image = xtest[457, :]\n",
        "\n",
        "plt.figure(1)\n",
        "plt.imshow(sample_image.reshape(28,28))"
      ],
      "metadata": {
        "id": "x6IVH-6VQ51s",
        "colab": {
          "base_uri": "https://localhost:8080/",
          "height": 449
        },
        "outputId": "8b054134-02e1-45d4-d6c2-4de1757b4ea6"
      },
      "execution_count": 14,
      "outputs": [
        {
          "output_type": "execute_result",
          "data": {
            "text/plain": [
              "<matplotlib.image.AxesImage at 0x7ff5c92020e0>"
            ]
          },
          "metadata": {},
          "execution_count": 14
        },
        {
          "output_type": "display_data",
          "data": {
            "text/plain": [
              "<Figure size 640x480 with 1 Axes>"
            ],
            "image/png": "[encoded data removed]"
          },
          "metadata": {}
        }
      ]
    },
    {
      "cell_type": "code",
      "source": [
        "y_hat = network.predict(sample_image.reshape(1,784))"
      ],
      "metadata": {
        "id": "ylKFrlHZRHM4",
        "colab": {
          "base_uri": "https://localhost:8080/"
        },
        "outputId": "6851382f-250e-45b4-e9f6-c3527796afa9"
      },
      "execution_count": 15,
      "outputs": [
        {
          "output_type": "stream",
          "name": "stdout",
          "text": [
            "1/1 [==============================] - 0s 173ms/step\n"
          ]
        }
      ]
    },
    {
      "cell_type": "code",
      "source": [
        "print(numpy.argmax(y_hat))"
      ],
      "metadata": {
        "id": "eNKkBc8cRR4s",
        "colab": {
          "base_uri": "https://localhost:8080/"
        },
        "outputId": "9ab49cdf-6685-4f0a-f280-5444f87a1bc2"
      },
      "execution_count": 16,
      "outputs": [
        {
          "output_type": "stream",
          "name": "stdout",
          "text": [
            "6\n"
          ]
        }
      ]
    },
    {
      "cell_type": "code",
      "source": [
        "print(y_hat)"
      ],
      "metadata": {
        "id": "WyAmh7FJRVUK",
        "colab": {
          "base_uri": "https://localhost:8080/"
        },
        "outputId": "d9b231e0-3805-444d-acb0-43bfb95c258b"
      },
      "execution_count": 21,
      "outputs": [
        {
          "output_type": "stream",
          "name": "stdout",
          "text": [
            "[[9.1503270e-25 1.4254769e-32 5.0358018e-31 8.4817108e-31 1.6662395e-25\n",
            "  7.2108160e-15 1.0000000e+00 0.0000000e+00 1.2380907e-21 3.5532102e-25]]\n"
          ]
        }
      ]
    },
    {
      "cell_type": "code",
      "source": [
        "#Guardar nuestro modelo\n",
        "\n",
        "\n",
        "network.save(\"digista_network_12\")"
      ],
      "metadata": {
        "id": "uZNRKFmhR-GB"
      },
      "execution_count": 23,
      "outputs": []
    },
    {
      "cell_type": "code",
      "source": [
        "import matplotlib.pyplot as plt\n",
        "\n",
        "from keras.models import load_model\n",
        "\n",
        "image = plt.imread(\"/content/2.png\")\n",
        "\n",
        "\n",
        "plt.imshow(image)"
      ],
      "metadata": {
        "colab": {
          "base_uri": "https://localhost:8080/",
          "height": 449
        },
        "id": "1Nwtg-LQjkrQ",
        "outputId": "3f457b53-7040-4aa8-8441-af2e2110e53f"
      },
      "execution_count": 25,
      "outputs": [
        {
          "output_type": "execute_result",
          "data": {
            "text/plain": [
              "<matplotlib.image.AxesImage at 0x7ff5decd28c0>"
            ]
          },
          "metadata": {},
          "execution_count": 25
        },
        {
          "output_type": "display_data",
          "data": {
            "text/plain": [
              "<Figure size 640x480 with 1 Axes>"
            ],
            "image/png": "[encoded data removed]"
          },
          "metadata": {}
        }
      ]
    },
    {
      "cell_type": "code",
      "source": [
        "image.shape #Red,green,blue"
      ],
      "metadata": {
        "colab": {
          "base_uri": "https://localhost:8080/"
        },
        "id": "ayglX3dgju5H",
        "outputId": "838d38f9-1d29-431e-fabc-e3e6e9ceb6bc"
      },
      "execution_count": 26,
      "outputs": [
        {
          "output_type": "execute_result",
          "data": {
            "text/plain": [
              "(28, 28, 3)"
            ]
          },
          "metadata": {},
          "execution_count": 26
        }
      ]
    },
    {
      "cell_type": "code",
      "source": [
        "plt.imshow(image[:,:,2], cmap = \"binary\")"
      ],
      "metadata": {
        "colab": {
          "base_uri": "https://localhost:8080/",
          "height": 449
        },
        "id": "33r77JaejxUz",
        "outputId": "04fbca5d-7705-44c6-8193-daf9d66344c4"
      },
      "execution_count": 29,
      "outputs": [
        {
          "output_type": "execute_result",
          "data": {
            "text/plain": [
              "<matplotlib.image.AxesImage at 0x7ff5ded2b610>"
            ]
          },
          "metadata": {},
          "execution_count": 29
        },
        {
          "output_type": "display_data",
          "data": {
            "text/plain": [
              "<Figure size 640x480 with 1 Axes>"
            ],
            "image/png": "[encoded data removed]"
          },
          "metadata": {}
        }
      ]
    },
    {
      "cell_type": "code",
      "source": [
        "# Para convertir de color a blanco y negro\n",
        "\n",
        "\n",
        "import cv2\n",
        "\n",
        "from PIL import Image, ImageOps\n",
        "\n",
        "\n",
        "bw_image = Image.open(\"/content/2.png\")\n",
        "inv_image = ImageOps.invert(bw_image)\n",
        "inv_image = inv_image.convert(\"L\")\n",
        "print(inv_image)"
      ],
      "metadata": {
        "colab": {
          "base_uri": "https://localhost:8080/"
        },
        "id": "YuAqrQU_kjYe",
        "outputId": "306a5eff-c3db-4de9-db87-96a4f8df24d5"
      },
      "execution_count": 43,
      "outputs": [
        {
          "output_type": "stream",
          "name": "stdout",
          "text": [
            "<PIL.Image.Image image mode=L size=28x28 at 0x7FF5CF7FB640>\n"
          ]
        }
      ]
    },
    {
      "cell_type": "code",
      "source": [
        "# Requiero quw me imagen se convierta en un vector\n",
        "\n",
        "bw_image = np.array(inv_image).reshape(1,784) / 255.00"
      ],
      "metadata": {
        "id": "72B8twvDlKr7"
      },
      "execution_count": 46,
      "outputs": []
    },
    {
      "cell_type": "code",
      "source": [
        "network = load_model(\"digista_network_100\")"
      ],
      "metadata": {
        "id": "5B0BjP-8lYAR"
      },
      "execution_count": 47,
      "outputs": []
    },
    {
      "cell_type": "code",
      "source": [
        "pred = network.predict(bw_image)"
      ],
      "metadata": {
        "colab": {
          "base_uri": "https://localhost:8080/"
        },
        "id": "fc6u3NzSlrp3",
        "outputId": "c019f42b-3c4b-410b-8d39-ecf8ad33c36b"
      },
      "execution_count": 48,
      "outputs": [
        {
          "output_type": "stream",
          "name": "stdout",
          "text": [
            "1/1 [==============================] - 0s 70ms/step\n"
          ]
        }
      ]
    },
    {
      "cell_type": "code",
      "source": [
        "import numpy as np\n",
        "\n",
        "print(np.argmax(pred))"
      ],
      "metadata": {
        "colab": {
          "base_uri": "https://localhost:8080/"
        },
        "id": "1EvPj8X1l39k",
        "outputId": "a27afd6f-1c13-457a-ce07-f97e5108e3d0"
      },
      "execution_count": 49,
      "outputs": [
        {
          "output_type": "stream",
          "name": "stdout",
          "text": [
            "2\n"
          ]
        }
      ]
    }
  ]
}