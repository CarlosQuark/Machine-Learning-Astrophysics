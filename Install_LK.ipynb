{
  "cells": [
    {
      "cell_type": "markdown",
      "metadata": {
        "id": "A4FkQb2aOoX0"
      },
      "source": [
        "**How to find exoplanents with python + lightkurve**\n",
        "\n"
      ]
    },
    {
      "cell_type": "code",
      "execution_count": null,
      "metadata": {
        "id": "H0R1nr9Hw50_"
      },
      "outputs": [],
      "source": [
        "#Install package \n",
        "#pip install lightkurve "
      ]
    },
    {
      "cell_type": "code",
      "execution_count": null,
      "metadata": {
        "colab": {
          "base_uri": "https://localhost:8080/"
        },
        "id": "6LjyUh9vOmP4",
        "outputId": "9b159cdb-e5f9-43c3-8214-bbef45586a7b"
      },
      "outputs": [
        {
          "name": "stdout",
          "output_type": "stream",
          "text": [
            "Looking in indexes: https://pypi.org/simple, https://us-python.pkg.dev/colab-wheels/public/simple/\n",
            "Requirement already satisfied: astropy in /usr/local/lib/python3.9/dist-packages (5.2.2)\n",
            "Requirement already satisfied: packaging>=19.0 in /usr/local/lib/python3.9/dist-packages (from astropy) (23.0)\n",
            "Requirement already satisfied: numpy>=1.20 in /usr/local/lib/python3.9/dist-packages (from astropy) (1.22.4)\n",
            "Requirement already satisfied: PyYAML>=3.13 in /usr/local/lib/python3.9/dist-packages (from astropy) (6.0)\n",
            "Requirement already satisfied: pyerfa>=2.0 in /usr/local/lib/python3.9/dist-packages (from astropy) (2.0.0.3)\n"
          ]
        }
      ],
      "source": [
        "#pip install astropy"
      ]
    },
    {
      "cell_type": "code",
      "execution_count": null,
      "metadata": {
        "id": "0KAx7g1IQZGm"
      },
      "outputs": [],
      "source": [
        "#pip install Bokeh"
      ]
    },
    {
      "cell_type": "markdown",
      "metadata": {
        "id": "vWsLnXpSSaNK"
      },
      "source": [
        "Target Pixel Files (TPFs)  son archivos en común para las misiones de las sondas espaciales Kepler y TESS. En ellas contienen los pixeles de los archivos de solo las estrellas. Para nuestro caso utilizaremos la base de datos de kepler para las curvas de luz. \n",
        "\n",
        "-Página de donde proviene las curvas de luz de base de datos https://exoplanetarchive.ipac.caltech.edu/ ó https://exoplanetarchive.ipac.caltech.edu/cgi-bin/TblView/nph-tblView?app=ExoTbls&config=cumulative\n",
        "\n",
        "-search_lightcurve es solamente para pasar de manera automatica el archivo URL. Para más información podemos encontrarlo por https://docs.lightkurve.org/reference/api/lightkurve.search_targetpixelfile.html"
      ]
    },
    {
      "cell_type": "code",
      "execution_count": null,
      "metadata": {
        "id": "YO2Wk_uhQkop"
      },
      "outputs": [],
      "source": [
        "#Llamamos a las librerias que queremso desarrollar. \n",
        "import pandas as pd\n",
        "import numpy as np\n",
        "from lightkurve import targetpixelfile #Archivos en común para las misiones de Kepler o Tess.\n",
        "from lightkurve import search_lightcurve #Buscar curvas de luz para analizar. Es el URL automatico. \n",
        "from lightkurve import TessTargetPixelFile #Testear curvas de luz. "
      ]
    }
  ],
  "metadata": {
    "colab": {
      "provenance": []
    },
    "kernelspec": {
      "display_name": "Python 3",
      "name": "python3"
    },
    "language_info": {
      "name": "python"
    }
  },
  "nbformat": 4,
  "nbformat_minor": 0
}
